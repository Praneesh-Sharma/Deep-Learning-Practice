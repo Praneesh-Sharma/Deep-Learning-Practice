{
 "cells": [
  {
   "cell_type": "markdown",
   "id": "f31108df",
   "metadata": {},
   "source": [
    "## Spam Classification"
   ]
  },
  {
   "cell_type": "code",
   "execution_count": 1,
   "id": "7b579900",
   "metadata": {},
   "outputs": [
    {
     "name": "stderr",
     "output_type": "stream",
     "text": [
      "[nltk_data] Downloading package stopwords to\n",
      "[nltk_data]     C:\\Users\\KIIT\\AppData\\Roaming\\nltk_data...\n",
      "[nltk_data]   Unzipping corpora\\stopwords.zip.\n",
      "[nltk_data] Downloading package punkt to\n",
      "[nltk_data]     C:\\Users\\KIIT\\AppData\\Roaming\\nltk_data...\n",
      "[nltk_data]   Unzipping tokenizers\\punkt.zip.\n",
      "[nltk_data] Downloading package wordnet to\n",
      "[nltk_data]     C:\\Users\\KIIT\\AppData\\Roaming\\nltk_data...\n"
     ]
    }
   ],
   "source": [
    "import nltk\n",
    "\n",
    "nltk.download('stopwords')\n",
    "nltk.download('punkt')\n",
    "\n",
    "from nltk.corpus import stopwords\n",
    "nltk.download('wordnet')\n",
    "from nltk.stem import WordNetLemmatizer\n",
    "lemmatizer = WordNetLemmatizer()"
   ]
  },
  {
   "cell_type": "markdown",
   "id": "26260059",
   "metadata": {},
   "source": [
    "### Creating Text Representations\n",
    "Text data needs to be converted to numeric representations before they can be used to train deep learning models. The spam \n",
    "classification feature data is converted to TF-IDF vectors and the target variable is converted to one-hot-encoding"
   ]
  },
  {
   "cell_type": "code",
   "execution_count": 10,
   "id": "324d7a2d",
   "metadata": {},
   "outputs": [
    {
     "name": "stdout",
     "output_type": "stream",
     "text": [
      "  CLASS                                                SMS\n",
      "0   ham   said kiss, kiss, i can't do the sound effects...\n",
      "1   ham      &lt;#&gt; ISH MINUTES WAS 5 MINUTES AGO. WTF.\n",
      "2  spam  (Bank of Granite issues Strong-Buy) EXPLOSIVE ...\n",
      "3  spam  * FREE* POLYPHONIC RINGTONE Text SUPER to 8713...\n",
      "4  spam  **FREE MESSAGE**Thanks for using the Auction S...\n"
     ]
    }
   ],
   "source": [
    "import pandas as pd\n",
    "import os\n",
    "import numpy as np\n",
    "from sklearn.model_selection import train_test_split\n",
    "from sklearn.preprocessing import scale\n",
    "\n",
    "data = pd.read_csv(\"Spam-Classification.csv\")\n",
    "print(data.head())\n",
    "\n",
    "#Seperate target and feature data\n",
    "spam_classes_raw = data['CLASS']\n",
    "spam_messages = data['SMS']"
   ]
  },
  {
   "cell_type": "code",
   "execution_count": 11,
   "id": "13d77c02",
   "metadata": {},
   "outputs": [
    {
     "name": "stdout",
     "output_type": "stream",
     "text": [
      "TF-IDF Matrix Shape:  (1500, 4566)\n",
      "One-Hot_Encoding Shape:  (1500, 2)\n"
     ]
    }
   ],
   "source": [
    "import nltk \n",
    "import tensorflow as tf\n",
    "\n",
    "#Custom tokenizer to remove stopwords and use lemmatization\n",
    "def customtokenize(str):\n",
    "    #Split string as tokens\n",
    "    tokens = nltk.word_tokenize(str)\n",
    "    #Filter for stopwords\n",
    "    nostop = list(filter(lambda token: token not in stopwords.words('english'), tokens))\n",
    "    #Perform lemmatization\n",
    "    lemmatized = [lemmatizer.lemmatize(word) for word in nostop]\n",
    "    return lemmatized\n",
    "\n",
    "from sklearn.feature_extraction.text import TfidfVectorizer\n",
    "\n",
    "#Build a TF-IDF Vectorizer model\n",
    "vectorizer = TfidfVectorizer(tokenizer=customtokenize)\n",
    "\n",
    "#Transform feature input to TF-IDF\n",
    "tfidf = vectorizer.fit_transform(spam_messages)\n",
    "#Convert TF-IDF to numpy array\n",
    "tfidf_array = tfidf.toarray()\n",
    "\n",
    "#Build a label encoder for target variable to convert strings to numeric values\n",
    "from sklearn import preprocessing\n",
    "label_encoder = preprocessing.LabelEncoder()\n",
    "spam_classes = label_encoder.fit_transform(spam_classes_raw)\n",
    "\n",
    "#Convert target to one-hot vectors\n",
    "spam_classes = tf.keras.utils.to_categorical(spam_classes,2)\n",
    "\n",
    "print('TF-IDF Matrix Shape: ', tfidf.shape)\n",
    "print('One-Hot_Encoding Shape: ', spam_classes.shape)\n",
    "\n",
    "X_train, X_test, Y_train, Y_test = train_test_split(tfidf_array, spam_classes, test_size=0.10)"
   ]
  },
  {
   "cell_type": "markdown",
   "id": "c46e189a",
   "metadata": {},
   "source": [
    "### Building and Evaluating Model"
   ]
  },
  {
   "cell_type": "code",
   "execution_count": 12,
   "id": "d400e98d",
   "metadata": {},
   "outputs": [
    {
     "name": "stdout",
     "output_type": "stream",
     "text": [
      "Model: \"sequential_2\"\n",
      "_________________________________________________________________\n",
      " Layer (type)                Output Shape              Param #   \n",
      "=================================================================\n",
      " Hidden-Layer-1 (Dense)      (None, 32)                146144    \n",
      "                                                                 \n",
      " Hidden-Layer-2 (Dense)      (None, 32)                1056      \n",
      "                                                                 \n",
      " Output-Layer (Dense)        (None, 2)                 66        \n",
      "                                                                 \n",
      "=================================================================\n",
      "Total params: 147,266\n",
      "Trainable params: 147,266\n",
      "Non-trainable params: 0\n",
      "_________________________________________________________________\n"
     ]
    }
   ],
   "source": [
    "from tensorflow import keras\n",
    "from tensorflow.keras import optimizers\n",
    "from tensorflow.keras.regularizers import l2\n",
    "\n",
    "#Setup Hyperparameters for building the model\n",
    "NB_classes = 2\n",
    "N_hidden = 32\n",
    "\n",
    "model = tf.keras.models.Sequential()\n",
    "\n",
    "model.add(keras.layers.Dense(N_hidden,\n",
    "                            input_shape = (X_train.shape[1],),\n",
    "                            name = 'Hidden-Layer-1',\n",
    "                            activation = 'relu'))\n",
    "\n",
    "model.add(keras.layers.Dense(N_hidden,\n",
    "                            name = 'Hidden-Layer-2',\n",
    "                            activation = 'relu'))\n",
    "\n",
    "model.add(keras.layers.Dense(NB_classes,\n",
    "                            name = 'Output-Layer',\n",
    "                            activation = 'softmax'))\n",
    "\n",
    "model.compile(loss='categorical_crossentropy',\n",
    "             metrics = ['accuracy'])\n",
    "\n",
    "model.summary()"
   ]
  },
  {
   "cell_type": "code",
   "execution_count": 13,
   "id": "2b1bf698",
   "metadata": {},
   "outputs": [
    {
     "name": "stdout",
     "output_type": "stream",
     "text": [
      "\n",
      "Training Progress:\n",
      "\n",
      "Epoch 1/10\n",
      "5/5 [==============================] - 1s 98ms/step - loss: 0.6919 - accuracy: 0.5111 - val_loss: 0.6892 - val_accuracy: 0.5148\n",
      "Epoch 2/10\n",
      "5/5 [==============================] - 0s 23ms/step - loss: 0.6815 - accuracy: 0.6204 - val_loss: 0.6753 - val_accuracy: 0.8111\n",
      "Epoch 3/10\n",
      "5/5 [==============================] - 0s 24ms/step - loss: 0.6628 - accuracy: 0.8898 - val_loss: 0.6563 - val_accuracy: 0.8037\n",
      "Epoch 4/10\n",
      "5/5 [==============================] - 0s 24ms/step - loss: 0.6341 - accuracy: 0.8991 - val_loss: 0.6270 - val_accuracy: 0.9111\n",
      "Epoch 5/10\n",
      "5/5 [==============================] - 0s 21ms/step - loss: 0.5977 - accuracy: 0.9435 - val_loss: 0.5915 - val_accuracy: 0.9481\n",
      "Epoch 6/10\n",
      "5/5 [==============================] - 0s 25ms/step - loss: 0.5539 - accuracy: 0.9620 - val_loss: 0.5510 - val_accuracy: 0.9593\n",
      "Epoch 7/10\n",
      "5/5 [==============================] - 0s 23ms/step - loss: 0.5047 - accuracy: 0.9676 - val_loss: 0.5094 - val_accuracy: 0.9556\n",
      "Epoch 8/10\n",
      "5/5 [==============================] - 0s 19ms/step - loss: 0.4532 - accuracy: 0.9722 - val_loss: 0.4628 - val_accuracy: 0.9778\n",
      "Epoch 9/10\n",
      "5/5 [==============================] - 0s 23ms/step - loss: 0.4021 - accuracy: 0.9815 - val_loss: 0.4197 - val_accuracy: 0.9704\n",
      "Epoch 10/10\n",
      "5/5 [==============================] - 0s 20ms/step - loss: 0.3523 - accuracy: 0.9852 - val_loss: 0.3809 - val_accuracy: 0.9704\n",
      "\n",
      "Accuracy during Training:\n",
      "\n"
     ]
    },
    {
     "data": {
      "image/png": "[encoded data removed]",
      "text/plain": [
       "<Figure size 576x360 with 1 Axes>"
      ]
     },
     "metadata": {},
     "output_type": "display_data"
    },
    {
     "name": "stdout",
     "output_type": "stream",
     "text": [
      "\n",
      "Evaluation against Test Dataset:\n",
      "\n",
      "5/5 [==============================] - 0s 4ms/step - loss: 0.4066 - accuracy: 0.9133\n"
     ]
    },
    {
     "data": {
      "text/plain": [
       "[0.4065537750720978, 0.9133333563804626]"
      ]
     },
     "execution_count": 13,
     "metadata": {},
     "output_type": "execute_result"
    }
   ],
   "source": [
    "#Make it verbose so we can see the progress\n",
    "Verbose=1\n",
    "\n",
    "#Setup Hyperparameters for training\n",
    "Batch_Size = 256\n",
    "Epochs = 10\n",
    "Validation_Split = 0.2\n",
    "\n",
    "print(\"\\nTraining Progress:\\n\")\n",
    "\n",
    "history = model.fit(X_train,\n",
    "                   Y_train,\n",
    "                   batch_size=Batch_Size,\n",
    "                   epochs=Epochs,\n",
    "                   verbose=Verbose,\n",
    "                   validation_split=Validation_Split)\n",
    "\n",
    "print('\\nAccuracy during Training:\\n')\n",
    "import matplotlib.pyplot as plt\n",
    "\n",
    "plt.style.use(\"dark_background\")\n",
    "pd.DataFrame(history.history)['accuracy'].plot(figsize=(8, 5))\n",
    "plt.title(\"Accurqacy improvements with Epochs\")\n",
    "plt.show()\n",
    "\n",
    "print(\"\\nEvaluation against Test Dataset:\\n\")\n",
    "model.evaluate(X_test,Y_test)"
   ]
  },
  {
   "cell_type": "markdown",
   "id": "dd513efd",
   "metadata": {},
   "source": [
    "### Predicting for Text"
   ]
  },
  {
   "cell_type": "code",
   "execution_count": 15,
   "id": "7b370b0b",
   "metadata": {},
   "outputs": [
    {
     "name": "stdout",
     "output_type": "stream",
     "text": [
      "(2, 4566)\n",
      "1/1 [==============================] - 0s 176ms/step\n",
      "Prediction Output: [1 0]\n",
      "Prediction Classes are:  ['spam' 'ham']\n"
     ]
    }
   ],
   "source": [
    "#Predict for multiple samples using batch processing\n",
    "\n",
    "#Convert input into IF-IDF vector using the same vactorizer mdoel\n",
    "predict_ifidf = vectorizer.transform([\"FREE entry to a fun contest\", \"Yup I will come over\"]).toarray()\n",
    "\n",
    "print(predict_ifidf.shape)\n",
    "\n",
    "#Predict using model\n",
    "prediction = np.argmax(model.predict(predict_ifidf), axis=1)\n",
    "print(\"Prediction Output:\", prediction)\n",
    "\n",
    "#Print prediction classes\n",
    "print(\"Prediction Classes are: \", label_encoder.inverse_transform(prediction))"
   ]
  }
 ],
 "metadata": {
  "kernelspec": {
   "display_name": "Python 3 (ipykernel)",
   "language": "python",
   "name": "python3"
  },
  "language_info": {
   "codemirror_mode": {
    "name": "ipython",
    "version": 3
   },
   "file_extension": ".py",
   "mimetype": "text/x-python",
   "name": "python",
   "nbconvert_exporter": "python",
   "pygments_lexer": "ipython3",
   "version": "3.9.7"
  }
 },
 "nbformat": 4,
 "nbformat_minor": 5
}
