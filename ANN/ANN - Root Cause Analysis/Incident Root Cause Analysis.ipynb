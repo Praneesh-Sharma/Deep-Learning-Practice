{
 "cells": [
  {
   "cell_type": "markdown",
   "id": "57a58b07",
   "metadata": {},
   "source": [
    "## IT Operations: Root Cause Analysis\n",
    "\n",
    "A data center team wants to build a model to predict causes of issues reported by customers.\n",
    "They use a system monitoring tool to track CPU, memory, and application latency for all their servers.\n",
    "In addition, they also track specific errors reported by applications"
   ]
  },
  {
   "cell_type": "markdown",
   "id": "64e7b180",
   "metadata": {},
   "source": [
    "#### Problem Statement\n",
    "Using data about CPU load, memory load, network delays, and three types of errors, build a model to predict root cause of error\n",
    "A data set is available for each incident, indicating if any load issues or errors was observed during that time"
   ]
  },
  {
   "cell_type": "markdown",
   "id": "d30d0f8a",
   "metadata": {},
   "source": [
    "### Loading the Dataset"
   ]
  },
  {
   "cell_type": "code",
   "execution_count": 25,
   "id": "ef59c8f6",
   "metadata": {},
   "outputs": [
    {
     "name": "stdout",
     "output_type": "stream",
     "text": [
      "ID                   int64\n",
      "CPU_LOAD             int64\n",
      "MEMORY_LEAK_LOAD     int64\n",
      "DELAY                int64\n",
      "ERROR_1000           int64\n",
      "ERROR_1001           int64\n",
      "ERROR_1002           int64\n",
      "ERROR_1003           int64\n",
      "ROOT_CAUSE          object\n",
      "dtype: object\n"
     ]
    },
    {
     "data": {
      "text/html": [
       "<div>\n",
       "<style scoped>\n",
       "    .dataframe tbody tr th:only-of-type {\n",
       "        vertical-align: middle;\n",
       "    }\n",
       "\n",
       "    .dataframe tbody tr th {\n",
       "        vertical-align: top;\n",
       "    }\n",
       "\n",
       "    .dataframe thead th {\n",
       "        text-align: right;\n",
       "    }\n",
       "</style>\n",
       "<table border=\"1\" class=\"dataframe\">\n",
       "  <thead>\n",
       "    <tr style=\"text-align: right;\">\n",
       "      <th></th>\n",
       "      <th>ID</th>\n",
       "      <th>CPU_LOAD</th>\n",
       "      <th>MEMORY_LEAK_LOAD</th>\n",
       "      <th>DELAY</th>\n",
       "      <th>ERROR_1000</th>\n",
       "      <th>ERROR_1001</th>\n",
       "      <th>ERROR_1002</th>\n",
       "      <th>ERROR_1003</th>\n",
       "      <th>ROOT_CAUSE</th>\n",
       "    </tr>\n",
       "  </thead>\n",
       "  <tbody>\n",
       "    <tr>\n",
       "      <th>0</th>\n",
       "      <td>1</td>\n",
       "      <td>0</td>\n",
       "      <td>0</td>\n",
       "      <td>0</td>\n",
       "      <td>0</td>\n",
       "      <td>1</td>\n",
       "      <td>0</td>\n",
       "      <td>1</td>\n",
       "      <td>MEMORY_LEAK</td>\n",
       "    </tr>\n",
       "    <tr>\n",
       "      <th>1</th>\n",
       "      <td>2</td>\n",
       "      <td>0</td>\n",
       "      <td>0</td>\n",
       "      <td>0</td>\n",
       "      <td>0</td>\n",
       "      <td>0</td>\n",
       "      <td>0</td>\n",
       "      <td>1</td>\n",
       "      <td>MEMORY_LEAK</td>\n",
       "    </tr>\n",
       "    <tr>\n",
       "      <th>2</th>\n",
       "      <td>3</td>\n",
       "      <td>0</td>\n",
       "      <td>1</td>\n",
       "      <td>1</td>\n",
       "      <td>0</td>\n",
       "      <td>0</td>\n",
       "      <td>1</td>\n",
       "      <td>1</td>\n",
       "      <td>MEMORY_LEAK</td>\n",
       "    </tr>\n",
       "    <tr>\n",
       "      <th>3</th>\n",
       "      <td>4</td>\n",
       "      <td>0</td>\n",
       "      <td>1</td>\n",
       "      <td>0</td>\n",
       "      <td>1</td>\n",
       "      <td>1</td>\n",
       "      <td>0</td>\n",
       "      <td>1</td>\n",
       "      <td>MEMORY_LEAK</td>\n",
       "    </tr>\n",
       "    <tr>\n",
       "      <th>4</th>\n",
       "      <td>5</td>\n",
       "      <td>1</td>\n",
       "      <td>1</td>\n",
       "      <td>0</td>\n",
       "      <td>1</td>\n",
       "      <td>0</td>\n",
       "      <td>1</td>\n",
       "      <td>0</td>\n",
       "      <td>NETWORK_DELAY</td>\n",
       "    </tr>\n",
       "  </tbody>\n",
       "</table>\n",
       "</div>"
      ],
      "text/plain": [
       "   ID  CPU_LOAD  MEMORY_LEAK_LOAD  DELAY  ERROR_1000  ERROR_1001  ERROR_1002  \\\n",
       "0   1         0                 0      0           0           1           0   \n",
       "1   2         0                 0      0           0           0           0   \n",
       "2   3         0                 1      1           0           0           1   \n",
       "3   4         0                 1      0           1           1           0   \n",
       "4   5         1                 1      0           1           0           1   \n",
       "\n",
       "   ERROR_1003     ROOT_CAUSE  \n",
       "0           1    MEMORY_LEAK  \n",
       "1           1    MEMORY_LEAK  \n",
       "2           1    MEMORY_LEAK  \n",
       "3           1    MEMORY_LEAK  \n",
       "4           0  NETWORK_DELAY  "
      ]
     },
     "execution_count": 25,
     "metadata": {},
     "output_type": "execute_result"
    }
   ],
   "source": [
    "import pandas as pd\n",
    "import os\n",
    "import tensorflow as tf\n",
    "\n",
    "data = pd.read_csv('root_cause_analysis.csv')\n",
    "\n",
    "print(data.dtypes)\n",
    "data.head()"
   ]
  },
  {
   "cell_type": "markdown",
   "id": "557e3aa6",
   "metadata": {},
   "source": [
    "### Convert Data\n",
    "Input data needs to be converted to formats that can be consumed by ML algorithms"
   ]
  },
  {
   "cell_type": "code",
   "execution_count": 26,
   "id": "84a374a7",
   "metadata": {},
   "outputs": [
    {
     "name": "stdout",
     "output_type": "stream",
     "text": [
      "Shape of feature variables:  (900, 7)\n",
      "Shape of target variable:  (900, 3)\n"
     ]
    }
   ],
   "source": [
    "from sklearn import preprocessing\n",
    "from sklearn.model_selection import train_test_split\n",
    "\n",
    "label_encoder = preprocessing.LabelEncoder()\n",
    "data['ROOT_CAUSE'] = label_encoder.fit_transform(data['ROOT_CAUSE'])\n",
    "\n",
    "#Convert pandas dataframe to numpy vector\n",
    "np_symptom = data.to_numpy().astype(float)\n",
    "\n",
    "#Extract the feature variables (X)\n",
    "X = np_symptom[:,1:8]\n",
    "\n",
    "#Extract the target variable (Y), convert to to one-hot-encoding\n",
    "Y = np_symptom[:,8]\n",
    "Y = tf.keras.utils.to_categorical(Y,3)\n",
    "\n",
    "#Splitting trainig and test data\n",
    "X_train,X_test,Y_train,Y_test = train_test_split(X,Y,test_size=0.10)\n",
    "\n",
    "print('Shape of feature variables: ', X_train.shape)\n",
    "print('Shape of target variable: ', Y_train.shape)"
   ]
  },
  {
   "cell_type": "markdown",
   "id": "71805229",
   "metadata": {},
   "source": [
    "### Building and Evaluating the Model"
   ]
  },
  {
   "cell_type": "code",
   "execution_count": 27,
   "id": "d5fbc20e",
   "metadata": {},
   "outputs": [
    {
     "name": "stdout",
     "output_type": "stream",
     "text": [
      "Model: \"sequential_5\"\n",
      "_________________________________________________________________\n",
      " Layer (type)                Output Shape              Param #   \n",
      "=================================================================\n",
      " Dense-Layer-1 (Dense)       (None, 128)               1024      \n",
      "                                                                 \n",
      " Dense-Layer-2 (Dense)       (None, 128)               16512     \n",
      "                                                                 \n",
      " Final (Dense)               (None, 3)                 387       \n",
      "                                                                 \n",
      "=================================================================\n",
      "Total params: 17,923\n",
      "Trainable params: 17,923\n",
      "Non-trainable params: 0\n",
      "_________________________________________________________________\n",
      "Epoch 1/20\n",
      "12/12 [==============================] - 1s 34ms/step - loss: 0.8887 - accuracy: 0.7264 - val_loss: 0.7255 - val_accuracy: 0.8333\n",
      "Epoch 2/20\n",
      "12/12 [==============================] - 0s 12ms/step - loss: 0.6291 - accuracy: 0.8097 - val_loss: 0.5626 - val_accuracy: 0.8000\n",
      "Epoch 3/20\n",
      "12/12 [==============================] - 0s 9ms/step - loss: 0.5100 - accuracy: 0.8250 - val_loss: 0.5030 - val_accuracy: 0.8278\n",
      "Epoch 4/20\n",
      "12/12 [==============================] - 0s 9ms/step - loss: 0.4617 - accuracy: 0.8222 - val_loss: 0.4998 - val_accuracy: 0.8222\n",
      "Epoch 5/20\n",
      "12/12 [==============================] - 0s 11ms/step - loss: 0.4446 - accuracy: 0.8319 - val_loss: 0.4678 - val_accuracy: 0.8000\n",
      "Epoch 6/20\n",
      "12/12 [==============================] - 0s 10ms/step - loss: 0.4283 - accuracy: 0.8431 - val_loss: 0.4595 - val_accuracy: 0.8444\n",
      "Epoch 7/20\n",
      "12/12 [==============================] - 0s 9ms/step - loss: 0.4240 - accuracy: 0.8417 - val_loss: 0.4424 - val_accuracy: 0.8556\n",
      "Epoch 8/20\n",
      "12/12 [==============================] - 0s 9ms/step - loss: 0.4157 - accuracy: 0.8431 - val_loss: 0.4511 - val_accuracy: 0.8278\n",
      "Epoch 9/20\n",
      "12/12 [==============================] - 0s 11ms/step - loss: 0.4123 - accuracy: 0.8486 - val_loss: 0.4501 - val_accuracy: 0.8389\n",
      "Epoch 10/20\n",
      "12/12 [==============================] - 0s 8ms/step - loss: 0.4073 - accuracy: 0.8444 - val_loss: 0.4370 - val_accuracy: 0.8500\n",
      "Epoch 11/20\n",
      "12/12 [==============================] - 0s 9ms/step - loss: 0.4019 - accuracy: 0.8417 - val_loss: 0.4478 - val_accuracy: 0.8278\n",
      "Epoch 12/20\n",
      "12/12 [==============================] - 0s 8ms/step - loss: 0.4014 - accuracy: 0.8389 - val_loss: 0.4357 - val_accuracy: 0.8389\n",
      "Epoch 13/20\n",
      "12/12 [==============================] - 0s 8ms/step - loss: 0.3918 - accuracy: 0.8500 - val_loss: 0.4283 - val_accuracy: 0.8444\n",
      "Epoch 14/20\n",
      "12/12 [==============================] - 0s 8ms/step - loss: 0.3916 - accuracy: 0.8444 - val_loss: 0.4214 - val_accuracy: 0.8389\n",
      "Epoch 15/20\n",
      "12/12 [==============================] - 0s 9ms/step - loss: 0.3851 - accuracy: 0.8486 - val_loss: 0.4208 - val_accuracy: 0.8556\n",
      "Epoch 16/20\n",
      "12/12 [==============================] - 0s 8ms/step - loss: 0.3809 - accuracy: 0.8556 - val_loss: 0.4296 - val_accuracy: 0.8278\n",
      "Epoch 17/20\n",
      "12/12 [==============================] - 0s 8ms/step - loss: 0.3802 - accuracy: 0.8444 - val_loss: 0.4372 - val_accuracy: 0.8389\n",
      "Epoch 18/20\n",
      "12/12 [==============================] - 0s 9ms/step - loss: 0.3794 - accuracy: 0.8500 - val_loss: 0.4257 - val_accuracy: 0.8500\n",
      "Epoch 19/20\n",
      "12/12 [==============================] - 0s 9ms/step - loss: 0.3773 - accuracy: 0.8486 - val_loss: 0.4164 - val_accuracy: 0.8500\n",
      "Epoch 20/20\n",
      "12/12 [==============================] - 0s 8ms/step - loss: 0.3683 - accuracy: 0.8500 - val_loss: 0.4136 - val_accuracy: 0.8333\n",
      "\n",
      "Evaluation against Test Dataset :\n",
      "\n",
      "4/4 [==============================] - 0s 4ms/step - loss: 0.5806 - accuracy: 0.7500\n"
     ]
    },
    {
     "data": {
      "text/plain": [
       "[0.5805673599243164, 0.75]"
      ]
     },
     "execution_count": 27,
     "metadata": {},
     "output_type": "execute_result"
    }
   ],
   "source": [
    "from tensorflow import keras\n",
    "from tensorflow.keras import optimizers\n",
    "from tensorflow.keras.regularizers import l2\n",
    "\n",
    "#Setup training parameters\n",
    "Epochs=20\n",
    "Batch_Size=64\n",
    "Verbose=1\n",
    "Output_Classes=len(label_encoder.classes_)\n",
    "N_Hidden=128\n",
    "Validation_Split=0.2\n",
    "\n",
    "#Create a Keras sequential model\n",
    "model = tf.keras.models.Sequential()\n",
    "#Add a Dense layer\n",
    "model.add(keras.layers.Dense(N_Hidden,\n",
    "                            input_shape=(7,),\n",
    "                            name='Dense-Layer-1',\n",
    "                            activation='relu'))\n",
    "\n",
    "#Add a second dense layer\n",
    "model.add(keras.layers.Dense(N_Hidden,\n",
    "                              name='Dense-Layer-2',\n",
    "                              activation='relu'))\n",
    "\n",
    "#Add a softmax layer for categorial prediction\n",
    "model.add(keras.layers.Dense(Output_Classes,\n",
    "                             name='Final',\n",
    "                             activation='softmax'))\n",
    "\n",
    "#Compile the model\n",
    "model.compile(\n",
    "              loss='categorical_crossentropy',\n",
    "              metrics=['accuracy'])\n",
    "\n",
    "model.summary()\n",
    "\n",
    "#Build the model\n",
    "model.fit(X_train,\n",
    "          Y_train,\n",
    "          batch_size=Batch_Size,\n",
    "          epochs=Epochs,\n",
    "          verbose=Verbose,\n",
    "          validation_split=Validation_Split)\n",
    "\n",
    "\n",
    "#Evaluate the model against the test dataset and print results\n",
    "print(\"\\nEvaluation against Test Dataset :\\n\")\n",
    "model.evaluate(X_test,Y_test)"
   ]
  },
  {
   "cell_type": "markdown",
   "id": "386066ef",
   "metadata": {},
   "source": [
    "### Predicting Root Causes"
   ]
  },
  {
   "cell_type": "code",
   "execution_count": 30,
   "id": "a0c837e9",
   "metadata": {},
   "outputs": [
    {
     "name": "stdout",
     "output_type": "stream",
     "text": [
      "1/1 [==============================] - 0s 78ms/step\n",
      "['DATABASE_ISSUE']\n"
     ]
    }
   ],
   "source": [
    "#Pass individual flags to predict the root cause\n",
    "import numpy as np\n",
    "\n",
    "CPU_Load=1\n",
    "Memory_Load=0\n",
    "Delay=0\n",
    "Error_1000=0\n",
    "Error_1001=1\n",
    "Error_1002=2\n",
    "Error_1003=3\n",
    "\n",
    "prediction = np.argmax(model.predict(\n",
    "    [[CPU_Load,Memory_Load,Delay,\n",
    "      Error_1000,Error_1001,Error_1002,Error_1003]]), axis=1)\n",
    "\n",
    "print(label_encoder.inverse_transform(prediction))"
   ]
  },
  {
   "cell_type": "code",
   "execution_count": 31,
   "id": "3f7544ca",
   "metadata": {},
   "outputs": [
    {
     "name": "stdout",
     "output_type": "stream",
     "text": [
      "1/1 [==============================] - 0s 80ms/step\n",
      "['DATABASE_ISSUE' 'NETWORK_DELAY' 'MEMORY_LEAK' 'DATABASE_ISSUE'\n",
      " 'DATABASE_ISSUE']\n"
     ]
    }
   ],
   "source": [
    "#Predicting as a Batch\n",
    "print(label_encoder.inverse_transform(np.argmax(\n",
    "        model.predict([[1,0,0,0,1,1,0],\n",
    "                                [0,1,1,1,0,0,0],\n",
    "                                [1,1,0,1,1,0,1],\n",
    "                                [0,0,0,0,0,1,0],\n",
    "                                [1,0,1,0,1,1,1]]), axis=1 )))"
   ]
  }
 ],
 "metadata": {
  "kernelspec": {
   "display_name": "Python 3 (ipykernel)",
   "language": "python",
   "name": "python3"
  },
  "language_info": {
   "codemirror_mode": {
    "name": "ipython",
    "version": 3
   },
   "file_extension": ".py",
   "mimetype": "text/x-python",
   "name": "python",
   "nbconvert_exporter": "python",
   "pygments_lexer": "ipython3",
   "version": "3.9.7"
  }
 },
 "nbformat": 4,
 "nbformat_minor": 5
}
