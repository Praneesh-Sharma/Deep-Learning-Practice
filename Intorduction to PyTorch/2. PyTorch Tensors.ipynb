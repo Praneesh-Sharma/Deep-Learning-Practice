{
 "cells": [
  {
   "cell_type": "code",
   "execution_count": 1,
   "id": "b1e36d61",
   "metadata": {},
   "outputs": [],
   "source": [
    "import torch"
   ]
  },
  {
   "cell_type": "code",
   "execution_count": 13,
   "id": "6e7bf71e",
   "metadata": {},
   "outputs": [
    {
     "name": "stdout",
     "output_type": "stream",
     "text": [
      "tensor(1000)\n",
      "tensor([0, 1, 2, 3])\n",
      "tensor([[4, 5, 6],\n",
      "        [7, 8, 9]])\n"
     ]
    }
   ],
   "source": [
    "#create some custom tesors\n",
    "t0 = torch.tensor(1000)  #0-D tensor\n",
    "t1 = torch.tensor([0,1,2,3])  #1-D tensor\n",
    "t2 = torch.tensor([[4,5,6],[7,8,9]])  #2-D tensor\n",
    "\n",
    "print(t0)\n",
    "print(t1)\n",
    "print(t2)"
   ]
  },
  {
   "cell_type": "code",
   "execution_count": 17,
   "id": "5460dc0b",
   "metadata": {},
   "outputs": [
    {
     "name": "stdout",
     "output_type": "stream",
     "text": [
      "tensor([[1, 1, 1],\n",
      "        [1, 1, 1]], dtype=torch.int16)\n"
     ]
    }
   ],
   "source": [
    "#set dattype for each tensor\n",
    "a = torch.ones((2,3), dtype=torch.int16)\n",
    "print(a)"
   ]
  },
  {
   "cell_type": "markdown",
   "id": "8228b5c4",
   "metadata": {},
   "source": [
    "Tensor Data Types:\n",
    "bool, int8, uint8, int16,\n",
    "int32, int64, half, float,\n",
    "double, bfloat"
   ]
  },
  {
   "cell_type": "code",
   "execution_count": 19,
   "id": "fa832be4",
   "metadata": {},
   "outputs": [
    {
     "name": "stdout",
     "output_type": "stream",
     "text": [
      "torch.Size([2, 3])\n",
      "torch.Size([2, 3])\n"
     ]
    }
   ],
   "source": [
    "#tensor size\n",
    "print(a.size())\n",
    "print(a.shape)"
   ]
  },
  {
   "cell_type": "code",
   "execution_count": 21,
   "id": "846ad92b",
   "metadata": {},
   "outputs": [
    {
     "name": "stdout",
     "output_type": "stream",
     "text": [
      "2\n",
      "2\n"
     ]
    }
   ],
   "source": [
    "#tensor dimension\n",
    "print(a.ndimension())\n",
    "print(a.ndim)"
   ]
  },
  {
   "cell_type": "markdown",
   "id": "73851e19",
   "metadata": {},
   "source": [
    "To change dimension to tensor,\n",
    "\n",
    "    Tensor.view(nrows,ncols)"
   ]
  },
  {
   "cell_type": "markdown",
   "id": "956db47f",
   "metadata": {},
   "source": [
    "Flexibilities:\n",
    "    \n",
    "    In-place alterations\n",
    "    Tensor copying\n",
    "    Changing the shape of the tensor, such as altering the dimension of the tensor"
   ]
  },
  {
   "cell_type": "markdown",
   "id": "9c29fae4",
   "metadata": {},
   "source": [
    "GPU Support:\n",
    "\n",
    "    Robust acceleation on CUDA-compatible NVIDIA GPUs\n",
    "    Created on CPU by default; create on GPU using optional device argument\n",
    "    Move from one device to another using the to() method"
   ]
  }
 ],
 "metadata": {
  "kernelspec": {
   "display_name": "Python 3 (ipykernel)",
   "language": "python",
   "name": "python3"
  },
  "language_info": {
   "codemirror_mode": {
    "name": "ipython",
    "version": 3
   },
   "file_extension": ".py",
   "mimetype": "text/x-python",
   "name": "python",
   "nbconvert_exporter": "python",
   "pygments_lexer": "ipython3",
   "version": "3.9.13"
  }
 },
 "nbformat": 4,
 "nbformat_minor": 5
}
