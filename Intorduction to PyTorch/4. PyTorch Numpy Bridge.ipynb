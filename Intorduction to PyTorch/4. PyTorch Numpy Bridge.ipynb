{
 "cells": [
  {
   "cell_type": "markdown",
   "id": "6d5da56e",
   "metadata": {},
   "source": [
    "##### Broadcasting is a way to perform an operation between tensors that have similarities in their shapes.\n",
    "\n",
    "This is an important operation in deep learning.\n",
    "\n",
    "The common example is multiplying a tensor of learning weights by a batch of input tensors, applying the operation to each instance in the batch seperately and running a tensor of identical shape."
   ]
  },
  {
   "cell_type": "code",
   "execution_count": 2,
   "id": "05b8917e",
   "metadata": {},
   "outputs": [],
   "source": [
    "import torch"
   ]
  },
  {
   "cell_type": "code",
   "execution_count": 3,
   "id": "58e0fd82",
   "metadata": {},
   "outputs": [
    {
     "name": "stdout",
     "output_type": "stream",
     "text": [
      "tensor([ 2, 16])\n",
      "torch.Size([2])\n",
      "1\n"
     ]
    }
   ],
   "source": [
    "#simple operations\n",
    "u = torch.tensor([2, 4])\n",
    "v = torch.tensor([1, 4])\n",
    "w = u * v\n",
    "print(w)\n",
    "print(w.shape)\n",
    "print(w.ndim)"
   ]
  },
  {
   "cell_type": "markdown",
   "id": "5f3ecd40",
   "metadata": {},
   "source": [
    "##### Broadcasting Rules\n",
    "\n",
    "\n",
    "    Each tensor must at least one dimension - no empty tensors\n",
    "    \n",
    "    Comparing the dimension sizes of the two tensors(from last to first):\n",
    "        Each dimension must be equal\n",
    "        One of the dimensions must be of size 1\n",
    "        The dimension does not exist in one of the tensors\n",
    "        \n",
    "    Tensors of identical shape are trivially broadcastable"
   ]
  },
  {
   "cell_type": "code",
   "execution_count": 4,
   "id": "8667ce55",
   "metadata": {},
   "outputs": [
    {
     "name": "stdout",
     "output_type": "stream",
     "text": [
      "tensor([[[0.2138, 0.7984],\n",
      "         [0.3237, 0.3999],\n",
      "         [0.2174, 0.7684]],\n",
      "\n",
      "        [[0.2138, 0.7984],\n",
      "         [0.3237, 0.3999],\n",
      "         [0.2174, 0.7684]],\n",
      "\n",
      "        [[0.2138, 0.7984],\n",
      "         [0.3237, 0.3999],\n",
      "         [0.2174, 0.7684]],\n",
      "\n",
      "        [[0.2138, 0.7984],\n",
      "         [0.3237, 0.3999],\n",
      "         [0.2174, 0.7684]]])\n"
     ]
    }
   ],
   "source": [
    "#broadcasting rules\n",
    "a = torch.ones(4, 3, 2)\n",
    "b = a * torch.rand(   3, 2) #3rd and 2nd dims identical to a, dim 1 absent\n",
    "print(b)"
   ]
  },
  {
   "cell_type": "code",
   "execution_count": 5,
   "id": "61d39b2d",
   "metadata": {},
   "outputs": [
    {
     "name": "stdout",
     "output_type": "stream",
     "text": [
      "tensor([[[0.0808, 0.0808],\n",
      "         [0.6159, 0.6159],\n",
      "         [0.8587, 0.8587]],\n",
      "\n",
      "        [[0.0808, 0.0808],\n",
      "         [0.6159, 0.6159],\n",
      "         [0.8587, 0.8587]],\n",
      "\n",
      "        [[0.0808, 0.0808],\n",
      "         [0.6159, 0.6159],\n",
      "         [0.8587, 0.8587]],\n",
      "\n",
      "        [[0.0808, 0.0808],\n",
      "         [0.6159, 0.6159],\n",
      "         [0.8587, 0.8587]]])\n"
     ]
    }
   ],
   "source": [
    "c = a * torch.rand(   3, 1) #3rd dim = 1, 2nd dim identical to a\n",
    "print(c)"
   ]
  },
  {
   "cell_type": "code",
   "execution_count": 6,
   "id": "61cd5a0e",
   "metadata": {},
   "outputs": [
    {
     "name": "stdout",
     "output_type": "stream",
     "text": [
      "tensor([[[0.3515, 0.5066],\n",
      "         [0.3515, 0.5066],\n",
      "         [0.3515, 0.5066]],\n",
      "\n",
      "        [[0.3515, 0.5066],\n",
      "         [0.3515, 0.5066],\n",
      "         [0.3515, 0.5066]],\n",
      "\n",
      "        [[0.3515, 0.5066],\n",
      "         [0.3515, 0.5066],\n",
      "         [0.3515, 0.5066]],\n",
      "\n",
      "        [[0.3515, 0.5066],\n",
      "         [0.3515, 0.5066],\n",
      "         [0.3515, 0.5066]]])\n"
     ]
    }
   ],
   "source": [
    "d = a * torch.rand(   1, 2) #3rd dim identical to a, 2nd dim = 1\n",
    "print(d)"
   ]
  },
  {
   "cell_type": "code",
   "execution_count": 7,
   "id": "8c312ee1",
   "metadata": {},
   "outputs": [
    {
     "name": "stdout",
     "output_type": "stream",
     "text": [
      "[[1. 1. 1.]\n",
      " [1. 1. 1.]]\n",
      "tensor([[1., 1., 1.],\n",
      "        [1., 1., 1.]], dtype=torch.float64)\n"
     ]
    }
   ],
   "source": [
    "#switch between ndarrays and PyTorch tensors\n",
    "import numpy as np\n",
    "numpy_arr = np.ones((2, 3))\n",
    "print(numpy_arr)\n",
    "\n",
    "pytorch_tensor = torch.from_numpy(numpy_arr)\n",
    "print(pytorch_tensor)"
   ]
  },
  {
   "cell_type": "code",
   "execution_count": 8,
   "id": "13d57523",
   "metadata": {},
   "outputs": [
    {
     "name": "stdout",
     "output_type": "stream",
     "text": [
      "tensor([[0.5725, 0.9630, 0.2823],\n",
      "        [0.2520, 0.1685, 0.4038]])\n",
      "[[0.572482   0.9629582  0.2822786 ]\n",
      " [0.25201404 0.1684652  0.40381157]]\n"
     ]
    }
   ],
   "source": [
    "#reverse exaple of converting from PyTorch tensor to ndarray\n",
    "pytorch_rand = torch.rand(2, 3)\n",
    "print(pytorch_rand)\n",
    "\n",
    "numpy_rand = pytorch_rand.numpy()\n",
    "print(numpy_rand)"
   ]
  },
  {
   "cell_type": "code",
   "execution_count": 11,
   "id": "8fe712e4",
   "metadata": {},
   "outputs": [
    {
     "name": "stdout",
     "output_type": "stream",
     "text": [
      "tensor([[ 1.,  1.,  1.],\n",
      "        [ 1., 23.,  1.]], dtype=torch.float64)\n",
      "[[ 0.572482    0.9629582   0.2822786 ]\n",
      " [ 0.25201404 17.          0.40381157]]\n"
     ]
    }
   ],
   "source": [
    "#using the same underlying memory\n",
    "numpy_arr[1, 1] = 23\n",
    "print(pytorch_tensor)\n",
    "\n",
    "pytorch_rand[1, 1] = 17\n",
    "print(numpy_rand)"
   ]
  }
 ],
 "metadata": {
  "kernelspec": {
   "display_name": "Python 3 (ipykernel)",
   "language": "python",
   "name": "python3"
  },
  "language_info": {
   "codemirror_mode": {
    "name": "ipython",
    "version": 3
   },
   "file_extension": ".py",
   "mimetype": "text/x-python",
   "name": "python",
   "nbconvert_exporter": "python",
   "pygments_lexer": "ipython3",
   "version": "3.9.13"
  }
 },
 "nbformat": 4,
 "nbformat_minor": 5
}
