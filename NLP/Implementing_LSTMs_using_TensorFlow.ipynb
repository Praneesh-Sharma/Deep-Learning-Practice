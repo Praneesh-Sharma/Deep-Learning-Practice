{
  "nbformat": 4,
  "nbformat_minor": 0,
  "metadata": {
    "colab": {
      "provenance": [],
      "authorship_tag": "ABX9TyPJwDKjurPH0W5/tczkiZDZ",
      "include_colab_link": true
    },
    "kernelspec": {
      "name": "python3",
      "display_name": "Python 3"
    },
    "language_info": {
      "name": "python"
    }
  },
  "cells": [
    {
      "cell_type": "markdown",
      "metadata": {
        "id": "view-in-github",
        "colab_type": "text"
      },
      "source": [
        "<a href=\"https://colab.research.google.com/github/Praneesh-Sharma/Deep-Learning-Practice/blob/main/NLP/Implementing_LSTMs_using_TensorFlow.ipynb\" target=\"_parent\"><img src=\"https://colab.research.google.com/assets/colab-badge.svg\" alt=\"Open In Colab\"/></a>"
      ]
    },
    {
      "cell_type": "markdown",
      "source": [
        "# Implementing LSTMs using TensorFlow\n",
        "\n",
        "This notebook walks you through the implementation of an LSTM model to classify news headlines as sarcastic or not_sarcastic. We will analyse the accuracy & loss curves for training and validation sets."
      ],
      "metadata": {
        "id": "jtya52HdbVPF"
      }
    },
    {
      "cell_type": "code",
      "execution_count": 28,
      "metadata": {
        "colab": {
          "base_uri": "https://localhost:8080/"
        },
        "id": "PksaDMAwbLKr",
        "outputId": "dca57e02-49d6-4450-f16d-441a4bcfe434"
      },
      "outputs": [
        {
          "output_type": "stream",
          "name": "stdout",
          "text": [
            "2.12.0\n"
          ]
        }
      ],
      "source": [
        "##import the required libraries and APIs\n",
        "import numpy as np\n",
        "import tensorflow as tf\n",
        "import tensorflow_datasets as tfds\n",
        "from tensorflow.keras.preprocessing.text import Tokenizer\n",
        "from tensorflow.keras.preprocessing.sequence import pad_sequences\n",
        "\n",
        "print(tf.__version__)"
      ]
    },
    {
      "cell_type": "markdown",
      "source": [
        "## Downloading the Headlines data\n"
      ],
      "metadata": {
        "id": "I3SPMTFqbdze"
      }
    },
    {
      "cell_type": "code",
      "source": [
        "!wget --no-check-certificate \\\n",
        "    https://storage.googleapis.com/wdd-2-node.appspot.com/x1.json \\\n",
        "    -o /tmp/headlines.json"
      ],
      "metadata": {
        "id": "v27f6TVDbagS"
      },
      "execution_count": 29,
      "outputs": []
    },
    {
      "cell_type": "code",
      "source": [
        "import pandas as pd\n",
        "\n",
        "data = pd.read_json(\"./x1.json\")\n",
        "data.head()"
      ],
      "metadata": {
        "colab": {
          "base_uri": "https://localhost:8080/",
          "height": 206
        },
        "id": "wJbwwvgobe9s",
        "outputId": "1f3ce708-0860-49f8-c29c-b56a8c5196f4"
      },
      "execution_count": 30,
      "outputs": [
        {
          "output_type": "execute_result",
          "data": {
            "text/plain": [
              "   is_sarcastic                                           headline  \\\n",
              "0             1  thirtysomething scientists unveil doomsday clo...   \n",
              "1             0  dem rep. totally nails why congress is falling...   \n",
              "2             0  eat your veggies: 9 deliciously different recipes   \n",
              "3             1  inclement weather prevents liar from getting t...   \n",
              "4             1  mother comes pretty close to using word 'strea...   \n",
              "\n",
              "                                        article_link  \n",
              "0  https://www.theonion.com/thirtysomething-scien...  \n",
              "1  https://www.huffingtonpost.com/entry/donna-edw...  \n",
              "2  https://www.huffingtonpost.com/entry/eat-your-...  \n",
              "3  https://local.theonion.com/inclement-weather-p...  \n",
              "4  https://www.theonion.com/mother-comes-pretty-c...  "
            ],
            "text/html": [
              "\n",
              "  <div id=\"df-8cd5e17c-9cbe-4c66-b185-020f32b29176\">\n",
              "    <div class=\"colab-df-container\">\n",
              "      <div>\n",
              "<style scoped>\n",
              "    .dataframe tbody tr th:only-of-type {\n",
              "        vertical-align: middle;\n",
              "    }\n",
              "\n",
              "    .dataframe tbody tr th {\n",
              "        vertical-align: top;\n",
              "    }\n",
              "\n",
              "    .dataframe thead th {\n",
              "        text-align: right;\n",
              "    }\n",
              "</style>\n",
              "<table border=\"1\" class=\"dataframe\">\n",
              "  <thead>\n",
              "    <tr style=\"text-align: right;\">\n",
              "      <th></th>\n",
              "      <th>is_sarcastic</th>\n",
              "      <th>headline</th>\n",
              "      <th>article_link</th>\n",
              "    </tr>\n",
              "  </thead>\n",
              "  <tbody>\n",
              "    <tr>\n",
              "      <th>0</th>\n",
              "      <td>1</td>\n",
              "      <td>thirtysomething scientists unveil doomsday clo...</td>\n",
              "      <td>https://www.theonion.com/thirtysomething-scien...</td>\n",
              "    </tr>\n",
              "    <tr>\n",
              "      <th>1</th>\n",
              "      <td>0</td>\n",
              "      <td>dem rep. totally nails why congress is falling...</td>\n",
              "      <td>https://www.huffingtonpost.com/entry/donna-edw...</td>\n",
              "    </tr>\n",
              "    <tr>\n",
              "      <th>2</th>\n",
              "      <td>0</td>\n",
              "      <td>eat your veggies: 9 deliciously different recipes</td>\n",
              "      <td>https://www.huffingtonpost.com/entry/eat-your-...</td>\n",
              "    </tr>\n",
              "    <tr>\n",
              "      <th>3</th>\n",
              "      <td>1</td>\n",
              "      <td>inclement weather prevents liar from getting t...</td>\n",
              "      <td>https://local.theonion.com/inclement-weather-p...</td>\n",
              "    </tr>\n",
              "    <tr>\n",
              "      <th>4</th>\n",
              "      <td>1</td>\n",
              "      <td>mother comes pretty close to using word 'strea...</td>\n",
              "      <td>https://www.theonion.com/mother-comes-pretty-c...</td>\n",
              "    </tr>\n",
              "  </tbody>\n",
              "</table>\n",
              "</div>\n",
              "      <button class=\"colab-df-convert\" onclick=\"convertToInteractive('df-8cd5e17c-9cbe-4c66-b185-020f32b29176')\"\n",
              "              title=\"Convert this dataframe to an interactive table.\"\n",
              "              style=\"display:none;\">\n",
              "        \n",
              "  <svg xmlns=\"http://www.w3.org/2000/svg\" height=\"24px\"viewBox=\"0 0 24 24\"\n",
              "       width=\"24px\">\n",
              "    <path d=\"M0 0h24v24H0V0z\" fill=\"none\"/>\n",
              "    <path d=\"M18.56 5.44l.94 2.06.94-2.06 2.06-.94-2.06-.94-.94-2.06-.94 2.06-2.06.94zm-11 1L8.5 8.5l.94-2.06 2.06-.94-2.06-.94L8.5 2.5l-.94 2.06-2.06.94zm10 10l.94 2.06.94-2.06 2.06-.94-2.06-.94-.94-2.06-.94 2.06-2.06.94z\"/><path d=\"M17.41 7.96l-1.37-1.37c-.4-.4-.92-.59-1.43-.59-.52 0-1.04.2-1.43.59L10.3 9.45l-7.72 7.72c-.78.78-.78 2.05 0 2.83L4 21.41c.39.39.9.59 1.41.59.51 0 1.02-.2 1.41-.59l7.78-7.78 2.81-2.81c.8-.78.8-2.07 0-2.86zM5.41 20L4 18.59l7.72-7.72 1.47 1.35L5.41 20z\"/>\n",
              "  </svg>\n",
              "      </button>\n",
              "      \n",
              "  <style>\n",
              "    .colab-df-container {\n",
              "      display:flex;\n",
              "      flex-wrap:wrap;\n",
              "      gap: 12px;\n",
              "    }\n",
              "\n",
              "    .colab-df-convert {\n",
              "      background-color: #E8F0FE;\n",
              "      border: none;\n",
              "      border-radius: 50%;\n",
              "      cursor: pointer;\n",
              "      display: none;\n",
              "      fill: #1967D2;\n",
              "      height: 32px;\n",
              "      padding: 0 0 0 0;\n",
              "      width: 32px;\n",
              "    }\n",
              "\n",
              "    .colab-df-convert:hover {\n",
              "      background-color: #E2EBFA;\n",
              "      box-shadow: 0px 1px 2px rgba(60, 64, 67, 0.3), 0px 1px 3px 1px rgba(60, 64, 67, 0.15);\n",
              "      fill: #174EA6;\n",
              "    }\n",
              "\n",
              "    [theme=dark] .colab-df-convert {\n",
              "      background-color: #3B4455;\n",
              "      fill: #D2E3FC;\n",
              "    }\n",
              "\n",
              "    [theme=dark] .colab-df-convert:hover {\n",
              "      background-color: #434B5C;\n",
              "      box-shadow: 0px 1px 3px 1px rgba(0, 0, 0, 0.15);\n",
              "      filter: drop-shadow(0px 1px 2px rgba(0, 0, 0, 0.3));\n",
              "      fill: #FFFFFF;\n",
              "    }\n",
              "  </style>\n",
              "\n",
              "      <script>\n",
              "        const buttonEl =\n",
              "          document.querySelector('#df-8cd5e17c-9cbe-4c66-b185-020f32b29176 button.colab-df-convert');\n",
              "        buttonEl.style.display =\n",
              "          google.colab.kernel.accessAllowed ? 'block' : 'none';\n",
              "\n",
              "        async function convertToInteractive(key) {\n",
              "          const element = document.querySelector('#df-8cd5e17c-9cbe-4c66-b185-020f32b29176');\n",
              "          const dataTable =\n",
              "            await google.colab.kernel.invokeFunction('convertToInteractive',\n",
              "                                                     [key], {});\n",
              "          if (!dataTable) return;\n",
              "\n",
              "          const docLinkHtml = 'Like what you see? Visit the ' +\n",
              "            '<a target=\"_blank\" href=https://colab.research.google.com/notebooks/data_table.ipynb>data table notebook</a>'\n",
              "            + ' to learn more about interactive tables.';\n",
              "          element.innerHTML = '';\n",
              "          dataTable['output_type'] = 'display_data';\n",
              "          await google.colab.output.renderOutput(dataTable, element);\n",
              "          const docLink = document.createElement('div');\n",
              "          docLink.innerHTML = docLinkHtml;\n",
              "          element.appendChild(docLink);\n",
              "        }\n",
              "      </script>\n",
              "    </div>\n",
              "  </div>\n",
              "  "
            ]
          },
          "metadata": {},
          "execution_count": 30
        }
      ]
    },
    {
      "cell_type": "code",
      "source": [
        "##create arrays to store the headlines and labels\n",
        "headlines = list(data['headline'])\n",
        "labels = list(data['is_sarcastic'])"
      ],
      "metadata": {
        "id": "td2-Rv21bf4C"
      },
      "execution_count": 31,
      "outputs": []
    },
    {
      "cell_type": "markdown",
      "source": [
        "## Data Preparation"
      ],
      "metadata": {
        "id": "M0IFaOGgbifP"
      }
    },
    {
      "cell_type": "code",
      "source": [
        "##define tokenizing and padding parameters\n",
        "vocab_size = 10000\n",
        "max_length = 150\n",
        "embedding_dim = 32\n",
        "trunc_type='post'\n",
        "padding_type='post'\n",
        "oov_tok = \"<OOV>\"\n",
        "training_size = 20000  # define training size(index)"
      ],
      "metadata": {
        "id": "2CjIHIOPbg2q"
      },
      "execution_count": 32,
      "outputs": []
    },
    {
      "cell_type": "code",
      "source": [
        "##training set from 0 to training size\n",
        "training_sentences = headlines[0:training_size]\n",
        "training_labels = labels[0:training_size]\n",
        "\n",
        "##testing set from training size to the end\n",
        "testing_sentences = headlines[training_size:]\n",
        "testing_labels = labels[training_size:]"
      ],
      "metadata": {
        "id": "MUZ-1YtUbj99"
      },
      "execution_count": 33,
      "outputs": []
    },
    {
      "cell_type": "code",
      "source": [
        "##train the tokenizer on training data\n",
        "tokenizer = Tokenizer(num_words=vocab_size, oov_token=oov_tok)\n",
        "tokenizer.fit_on_texts(training_sentences)\n",
        "\n",
        "word_index = tokenizer.word_index\n",
        "\n",
        "##create training sequences\n",
        "training_sequences = tokenizer.texts_to_sequences(training_sentences)\n",
        "training_padded = pad_sequences(training_sequences, maxlen=max_length, padding=padding_type, truncating=trunc_type)\n",
        "\n",
        "##create test sequences\n",
        "testing_sequences = tokenizer.texts_to_sequences(testing_sentences)\n",
        "testing_padded = pad_sequences(testing_sequences, maxlen=max_length, padding=padding_type, truncating=trunc_type)"
      ],
      "metadata": {
        "id": "pvd_dW1abk_9"
      },
      "execution_count": 34,
      "outputs": []
    },
    {
      "cell_type": "code",
      "source": [
        "# Need this block to get it to work with TensorFlow 2.x\n",
        "import numpy as np\n",
        "training_padded = np.array(training_padded)\n",
        "training_labels = np.array(training_labels)\n",
        "testing_padded = np.array(testing_padded)\n",
        "testing_labels = np.array(testing_labels)"
      ],
      "metadata": {
        "id": "sr2YKkRbblyG"
      },
      "execution_count": 35,
      "outputs": []
    },
    {
      "cell_type": "markdown",
      "source": [
        "## Define the LSTM model with the following layers:\n",
        "1. Embedding layer\n",
        "2. Add two bidirectional LSTM layers with 64 and 32 as number of outputs.\n",
        "3. Dense layer with 24 nodes\n",
        "4. Output Dense layer with `sigmoid` activation "
      ],
      "metadata": {
        "id": "u0L1D4Unb7UD"
      }
    },
    {
      "cell_type": "code",
      "source": [
        "model = tf.keras.Sequential([\n",
        "    tf.keras.layers.Embedding(vocab_size, embedding_dim, input_length=max_length),\n",
        "    tf.keras.layers.Bidirectional(tf.keras.layers.LSTM(64, return_sequences=True)),\n",
        "    tf.keras.layers.Bidirectional(tf.keras.layers.LSTM(32)),\n",
        "    tf.keras.layers.Dense(24, activation='relu'),\n",
        "    tf.keras.layers.Dense(1, activation='sigmoid')\n",
        "])\n",
        "model.compile(loss='binary_crossentropy',optimizer='adam',metrics=['accuracy'])"
      ],
      "metadata": {
        "id": "QAzv_7nAbrS3"
      },
      "execution_count": 36,
      "outputs": []
    },
    {
      "cell_type": "code",
      "source": [
        "model.summary()"
      ],
      "metadata": {
        "colab": {
          "base_uri": "https://localhost:8080/"
        },
        "id": "R20Hhx1Ob810",
        "outputId": "6f0cec63-e9fa-4f36-9a4b-7a4712ce37a3"
      },
      "execution_count": 37,
      "outputs": [
        {
          "output_type": "stream",
          "name": "stdout",
          "text": [
            "Model: \"sequential_1\"\n",
            "_________________________________________________________________\n",
            " Layer (type)                Output Shape              Param #   \n",
            "=================================================================\n",
            " embedding_1 (Embedding)     (None, 150, 32)           320000    \n",
            "                                                                 \n",
            " bidirectional_2 (Bidirectio  (None, 150, 128)         49664     \n",
            " nal)                                                            \n",
            "                                                                 \n",
            " bidirectional_3 (Bidirectio  (None, 64)               41216     \n",
            " nal)                                                            \n",
            "                                                                 \n",
            " dense_2 (Dense)             (None, 24)                1560      \n",
            "                                                                 \n",
            " dense_3 (Dense)             (None, 1)                 25        \n",
            "                                                                 \n",
            "=================================================================\n",
            "Total params: 412,465\n",
            "Trainable params: 412,465\n",
            "Non-trainable params: 0\n",
            "_________________________________________________________________\n"
          ]
        }
      ]
    },
    {
      "cell_type": "code",
      "source": [
        "num_epochs = 30\n",
        "history = model.fit(training_padded,\n",
        "                    training_labels,\n",
        "                    epochs=num_epochs,\n",
        "                    validation_data=(testing_padded, testing_labels),\n",
        "                    verbose=2)"
      ],
      "metadata": {
        "colab": {
          "base_uri": "https://localhost:8080/"
        },
        "id": "E7WV4uNZb91X",
        "outputId": "62e9bdba-8039-445d-9a9e-ef1e701927f8"
      },
      "execution_count": 38,
      "outputs": [
        {
          "output_type": "stream",
          "name": "stdout",
          "text": [
            "Epoch 1/30\n",
            "625/625 - 212s - loss: 0.3974 - accuracy: 0.8142 - val_loss: 0.3217 - val_accuracy: 0.8552 - 212s/epoch - 339ms/step\n",
            "Epoch 2/30\n",
            "625/625 - 189s - loss: 0.2031 - accuracy: 0.9183 - val_loss: 0.3375 - val_accuracy: 0.8578 - 189s/epoch - 302ms/step\n",
            "Epoch 3/30\n",
            "625/625 - 207s - loss: 0.1208 - accuracy: 0.9570 - val_loss: 0.4007 - val_accuracy: 0.8501 - 207s/epoch - 331ms/step\n",
            "Epoch 4/30\n",
            "625/625 - 207s - loss: 0.0732 - accuracy: 0.9740 - val_loss: 0.5192 - val_accuracy: 0.8448 - 207s/epoch - 332ms/step\n",
            "Epoch 5/30\n",
            "625/625 - 182s - loss: 0.0771 - accuracy: 0.9815 - val_loss: 0.6303 - val_accuracy: 0.7175 - 182s/epoch - 291ms/step\n",
            "Epoch 6/30\n",
            "625/625 - 182s - loss: 0.2238 - accuracy: 0.9125 - val_loss: 0.4482 - val_accuracy: 0.8384 - 182s/epoch - 291ms/step\n",
            "Epoch 7/30\n",
            "625/625 - 179s - loss: 0.0572 - accuracy: 0.9796 - val_loss: 0.5688 - val_accuracy: 0.8288 - 179s/epoch - 286ms/step\n",
            "Epoch 8/30\n",
            "625/625 - 182s - loss: 0.0267 - accuracy: 0.9906 - val_loss: 0.7489 - val_accuracy: 0.8329 - 182s/epoch - 292ms/step\n",
            "Epoch 9/30\n",
            "625/625 - 182s - loss: 0.0188 - accuracy: 0.9941 - val_loss: 0.8115 - val_accuracy: 0.8336 - 182s/epoch - 291ms/step\n",
            "Epoch 10/30\n",
            "625/625 - 183s - loss: 0.0137 - accuracy: 0.9959 - val_loss: 0.9255 - val_accuracy: 0.8335 - 183s/epoch - 293ms/step\n",
            "Epoch 11/30\n",
            "625/625 - 183s - loss: 0.0113 - accuracy: 0.9969 - val_loss: 0.8295 - val_accuracy: 0.8347 - 183s/epoch - 293ms/step\n",
            "Epoch 12/30\n",
            "625/625 - 185s - loss: 0.0196 - accuracy: 0.9936 - val_loss: 0.7975 - val_accuracy: 0.8271 - 185s/epoch - 296ms/step\n",
            "Epoch 13/30\n",
            "625/625 - 182s - loss: 0.0114 - accuracy: 0.9966 - val_loss: 0.9358 - val_accuracy: 0.8328 - 182s/epoch - 291ms/step\n",
            "Epoch 14/30\n",
            "625/625 - 182s - loss: 0.0056 - accuracy: 0.9986 - val_loss: 0.9829 - val_accuracy: 0.8281 - 182s/epoch - 291ms/step\n",
            "Epoch 15/30\n",
            "625/625 - 182s - loss: 0.0056 - accuracy: 0.9984 - val_loss: 1.0534 - val_accuracy: 0.8308 - 182s/epoch - 291ms/step\n",
            "Epoch 16/30\n",
            "625/625 - 182s - loss: 0.0062 - accuracy: 0.9980 - val_loss: 1.0541 - val_accuracy: 0.8336 - 182s/epoch - 290ms/step\n",
            "Epoch 17/30\n",
            "625/625 - 182s - loss: 0.0040 - accuracy: 0.9987 - val_loss: 1.1980 - val_accuracy: 0.8321 - 182s/epoch - 291ms/step\n",
            "Epoch 18/30\n",
            "625/625 - 182s - loss: 0.0041 - accuracy: 0.9989 - val_loss: 1.1206 - val_accuracy: 0.8272 - 182s/epoch - 291ms/step\n",
            "Epoch 19/30\n",
            "625/625 - 184s - loss: 0.0058 - accuracy: 0.9981 - val_loss: 1.0031 - val_accuracy: 0.8264 - 184s/epoch - 294ms/step\n",
            "Epoch 20/30\n",
            "625/625 - 184s - loss: 0.0034 - accuracy: 0.9989 - val_loss: 1.3510 - val_accuracy: 0.8289 - 184s/epoch - 294ms/step\n",
            "Epoch 21/30\n",
            "625/625 - 183s - loss: 0.0034 - accuracy: 0.9985 - val_loss: 1.0559 - val_accuracy: 0.8292 - 183s/epoch - 293ms/step\n",
            "Epoch 22/30\n",
            "625/625 - 183s - loss: 0.0037 - accuracy: 0.9989 - val_loss: 1.3315 - val_accuracy: 0.8263 - 183s/epoch - 293ms/step\n",
            "Epoch 23/30\n",
            "625/625 - 185s - loss: 0.0035 - accuracy: 0.9991 - val_loss: 1.1813 - val_accuracy: 0.8319 - 185s/epoch - 295ms/step\n",
            "Epoch 24/30\n",
            "625/625 - 183s - loss: 0.0031 - accuracy: 0.9988 - val_loss: 1.2513 - val_accuracy: 0.8257 - 183s/epoch - 293ms/step\n",
            "Epoch 25/30\n",
            "625/625 - 184s - loss: 0.0021 - accuracy: 0.9995 - val_loss: 1.4161 - val_accuracy: 0.8274 - 184s/epoch - 295ms/step\n",
            "Epoch 26/30\n",
            "625/625 - 184s - loss: 0.0038 - accuracy: 0.9987 - val_loss: 1.2261 - val_accuracy: 0.8221 - 184s/epoch - 295ms/step\n",
            "Epoch 27/30\n",
            "625/625 - 184s - loss: 0.0021 - accuracy: 0.9992 - val_loss: 1.3787 - val_accuracy: 0.8271 - 184s/epoch - 295ms/step\n",
            "Epoch 28/30\n",
            "625/625 - 184s - loss: 0.0014 - accuracy: 0.9997 - val_loss: 1.3895 - val_accuracy: 0.8260 - 184s/epoch - 294ms/step\n",
            "Epoch 29/30\n",
            "625/625 - 183s - loss: 7.5203e-04 - accuracy: 0.9998 - val_loss: 1.4078 - val_accuracy: 0.8282 - 183s/epoch - 292ms/step\n",
            "Epoch 30/30\n",
            "625/625 - 183s - loss: 5.9882e-04 - accuracy: 0.9998 - val_loss: 1.4007 - val_accuracy: 0.8240 - 183s/epoch - 293ms/step\n"
          ]
        }
      ]
    },
    {
      "cell_type": "markdown",
      "source": [
        "## Visualize accuracy and loss"
      ],
      "metadata": {
        "id": "VW5trxCPcBJJ"
      }
    },
    {
      "cell_type": "code",
      "source": [
        "import matplotlib.pyplot as plt\n",
        "\n",
        "\n",
        "def plot_metrics(history, metric):\n",
        "  plt.plot(history.history[metric])\n",
        "  plt.plot(history.history['val_'+metric])\n",
        "  plt.xlabel(\"Epochs\")\n",
        "  plt.ylabel(metric)\n",
        "  plt.legend([metric, 'val_'+metric])\n",
        "  plt.show()\n",
        "  \n",
        "plot_metrics(history, \"accuracy\")\n",
        "plot_metrics(history, \"loss\")"
      ],
      "metadata": {
        "colab": {
          "base_uri": "https://localhost:8080/",
          "height": 881
        },
        "id": "TaNLZ1Drb-3z",
        "outputId": "97299626-0a4b-448f-964c-3989171dba84"
      },
      "execution_count": 39,
      "outputs": [
        {
          "output_type": "display_data",
          "data": {
            "text/plain": [
              "<Figure size 640x480 with 1 Axes>"
            ],
            "image/png": "[encoded data removed]"
          },
          "metadata": {}
        },
        {
          "output_type": "display_data",
          "data": {
            "text/plain": [
              "<Figure size 640x480 with 1 Axes>"
            ],
            "image/png": "[encoded data removed]"
          },
          "metadata": {}
        }
      ]
    },
    {
      "cell_type": "markdown",
      "source": [
        "## Classifying unseen headlines"
      ],
      "metadata": {
        "id": "EquZZl7-cD7C"
      }
    },
    {
      "cell_type": "code",
      "source": [
        "sentence = [\"the girl starting to fear snakes in the garden might be real\", \"game of thrones season finale showing this sunday night\"]\n",
        "sequences = tokenizer.texts_to_sequences(sentence)\n",
        "padded = pad_sequences(sequences, maxlen=max_length, padding=padding_type, truncating=trunc_type)\n",
        "print(model.predict(padded))"
      ],
      "metadata": {
        "colab": {
          "base_uri": "https://localhost:8080/"
        },
        "id": "wu55SK3acCfr",
        "outputId": "d5148544-8fdb-4f62-bc23-28c311974644"
      },
      "execution_count": 40,
      "outputs": [
        {
          "output_type": "stream",
          "name": "stdout",
          "text": [
            "1/1 [==============================] - 2s 2s/step\n",
            "[[4.868646e-07]\n",
            " [8.079994e-07]]\n"
          ]
        }
      ]
    }
  ]
}